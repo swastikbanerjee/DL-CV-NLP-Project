{
  "nbformat": 4,
  "nbformat_minor": 0,
  "metadata": {
    "colab": {
      "provenance": [],
      "mount_file_id": "18NH-9JL172adbG3SDB2iBWzgOOB4edMF",
      "authorship_tag": "ABX9TyMKIFtjSw2TN3p1NtnUtRdS",
      "include_colab_link": true
    },
    "kernelspec": {
      "name": "python3",
      "display_name": "Python 3"
    },
    "language_info": {
      "name": "python"
    }
  },
  "cells": [
    {
      "cell_type": "markdown",
      "metadata": {
        "id": "view-in-github",
        "colab_type": "text"
      },
      "source": [
        "<a href=\"https://colab.research.google.com/github/swastikbanerjee/DL-CV-NLP-Project/blob/main/content_to_ppt.ipynb\" target=\"_parent\"><img src=\"https://colab.research.google.com/assets/colab-badge.svg\" alt=\"Open In Colab\"/></a>"
      ]
    },
    {
      "cell_type": "code",
      "source": [
        "content= \"\"\"\n",
        "Summary: Computer vision, a fast-evolving AI field, empowers machines to comprehend visual information. Encompassing various techniques, it enables computers to perceive, understand, and interact with visual data. Applications include healthcare, autonomous vehicles, robotics, retail, and more. Advances in deep learning and AI have significantly improved its capabilities.\n",
        "\n",
        "Keywords: ['visual', 'ai', 'computer', 'vision', 'applications', 'autonomous']\n",
        "\n",
        " Title: Evolving Computer Vision: Enhancing Machine Perception and Transforming Industries\n",
        "Meaning: Exploring the growth of computer vision, a vital AI field, and its impact on various sectors through improved visual understanding and interaction.\n",
        "\n",
        "Table of Contents:\n",
        "1. Introduction\n",
        "2. Overview of Computer Vision\n",
        "3. Techniques and Applications\n",
        "4. Advancements in Deep Learning and AI\n",
        "5. Conclusion\n",
        "\n",
        "*Slide 1: Introduction*\n",
        "- Computer Vision: An AI field that enables machines to understand visual information.\n",
        "- Importance: Empowers machines to interact with the world more effectively.\n",
        "- Applications: Healthcare, autonomous vehicles, robotics, retail, etc.\n",
        "\n",
        "*Slide 2: Overview of Computer Vision*\n",
        "- Image Acquisition: Gathering visual data through cameras or sensors.\n",
        "- Preprocessing: Enhancing and preparing the image for analysis.\n",
        "- Segmentation: Dividing the image into distinct regions.\n",
        "- Feature Extraction: Identifying key characteristics within the image.\n",
        "- Classification: Categorizing the image based on extracted features.\n",
        "\n",
        "*Slide 3: Techniques and Applications*\n",
        "- Image Recognition: Identifying objects and patterns within images.\n",
        "- Object Detection: Locating and recognizing specific objects in a scene.\n",
        "- Scene Understanding: Comprehending the context and relationships within a scene.\n",
        "- Biomedical Imaging: Analyzing medical images for diagnosis and treatment planning.\n",
        "- Industrial Automation: Inspecting products and controlling processes using visual information.\n",
        "\n",
        "*Slide 4: Advancements in Deep Learning and AI*\n",
        "- Convolutional Neural Networks (CNNs): Specialized neural networks designed for image processing.\n",
        "- Transfer Learning: Utilizing pre-trained CNNs as building blocks for new tasks.\n",
        "- Generative Adversarial Networks (GANs): Creating new images from scratch or translating images into different styles.\n",
        "- Benefits: Enhanced image classification, object detection, and image generation.\n",
        "\n",
        "*Slide 5: Conclusion*\n",
        "- Computer vision has revolutionized many industries by providing machines with the ability to perceive and understand visual information.\n",
        "- Advancements in deep learning and AI continue to push the boundaries of computer vision capabilities.\n",
        "- Future prospects include improved healthcare diagnostics, safer autonomous vehicles, and more intelligent robotics.\n",
        "Analysis: In conclusion, the summary report exhibits a positive sentiment, highlighting the remarkable progress and wide-ranging applications of computer vision. The advancements in deep learning, particularly convolutional neural networks, have revolutionized image recognition and classification. Computer vision holds immense potential to transform various industries, including healthcare, automotive, robotics, retail, and e-commerce, by enhancing safety, efficiency, and overall experiences. Ongoing research and development promise further advancements, indicating the continued growth and impact of computer vision in shaping the future.\n",
        "Presentation placeholders filled and saved.\n",
        "\"\"\""
      ],
      "metadata": {
        "id": "ZT2eBZdyKHsq"
      },
      "execution_count": null,
      "outputs": []
    },
    {
      "cell_type": "code",
      "execution_count": null,
      "metadata": {
        "colab": {
          "base_uri": "https://localhost:8080/"
        },
        "id": "4wt5htCuVPSq",
        "outputId": "4e4f5d5c-bb92-4783-a1a5-f8b3ee1ffa5b"
      },
      "outputs": [
        {
          "output_type": "stream",
          "name": "stdout",
          "text": [
            "Title: Evolving Computer Vision:\n",
            " Enhancing Machine Perception and Transforming Industries\n",
            "Meaning: Exploring the growth of computer vision, a vital AI field, and its impact on various sectors through improved visual understanding and interaction.\n",
            "Summary: Computer vision, a fast-evolving AI field, empowers machines to comprehend visual information. Encompassing various techniques, it enables computers to perceive, understand, and interact with visual data. Applications include healthcare, autonomous vehicles, robotics, retail, and more. Advances in deep learning and AI have significantly improved its capabilities.\n",
            "Table of Contents: Introduction\n",
            "Overview of Computer Vision\n",
            "Techniques and Applications\n",
            "Advancements in Deep Learning and AI\n",
            "Conclusion\n",
            "Slide 1 Header: INTRODUCTION\n",
            "Slide 1 Content: Computer Vision: An AI field that enables machines to understand visual information.\n",
            "Importance: Empowers machines to interact with the world more effectively.\n",
            "Applications: Healthcare, autonomous vehicles, robotics, retail, etc.\n",
            "\n",
            "Slide 2 Header: OVERVIEW OF COMPUTER VISION\n",
            "Slide 2 Content: Image Acquisition: Gathering visual data through cameras or sensors.\n",
            "Preprocessing: Enhancing and preparing the image for analysis.\n",
            "Segmentation: Dividing the image into distinct regions.\n",
            "Feature Extraction: Identifying key characteristics within the image.\n",
            "Classification: Categorizing the image based on extracted features.\n",
            "\n",
            "Slide 3 Header: TECHNIQUES AND APPLICATIONS\n",
            "Slide 3 Content: Image Recognition: Identifying objects and patterns within images.\n",
            "Object Detection: Locating and recognizing specific objects in a scene.\n",
            "Scene Understanding: Comprehending the context and relationships within a scene.\n",
            "Biomedical Imaging: Analyzing medical images for diagnosis and treatment planning.\n",
            "Industrial Automation: Inspecting products and controlling processes using visual information.\n",
            "\n",
            "Slide 4 Header: ADVANCEMENTS IN DEEP LEARNING AND AI\n",
            "Slide 4 Content: Convolutional Neural Networks (CNNs): Specialized neural networks designed for image processing.\n",
            "Transfer Learning: Utilizing pre-trained CNNs as building blocks for new tasks.\n",
            "Generative Adversarial Networks (GANs): Creating new images from scratch or translating images into different styles.\n",
            "Benefits: Enhanced image classification, object detection, and image generation.\n",
            "\n",
            "Slide 5 Header: CONCLUSION\n",
            "Slide 5 Content: Computer vision has revolutionized many industries by providing machines with the ability to perceive and understand visual information.\n",
            "Advancements in deep learning and AI continue to push the boundaries of computer vision capabilities.\n",
            "Future prospects include improved healthcare diagnostics, safer autonomous vehicles, and more intelligent robotics.\n",
            "Analysis: In conclusion, the summary report exhibits a positive sentiment, highlighting the remarkable progress and wide-ranging applications of computer vision. The advancements in deep learning, particularly convolutional neural networks, have revolutionized image recognition and classification. Computer vision holds immense potential to transform various industries, including healthcare, automotive, robotics, retail, and e-commerce, by enhancing safety, efficiency, and overall experiences. Ongoing research and development promise further advancements, indicating the continued growth and impact of computer vision in shaping the future.\n",
            "\n",
            "\n",
            "Keywords: visual, ai, computer, vision, applications, autonomous\n"
          ]
        }
      ],
      "source": [
        "import re\n",
        "\n",
        "title_regex = r\"Title:\\s*(.*)\"\n",
        "keywords_regex = r\"Keywords: \\[(.*?)\\]\"\n",
        "meaning_regex = r\"Meaning: (.*?)\\n\"\n",
        "summary_regex = r\"Summary: (.*?)\\n\"\n",
        "table_of_contents_regex = r\"(\\d+\\.\\s*.*)\"\n",
        "slide_1_header_regex = r\"\\*Slide 1: (.*?)\\*\"\n",
        "slide_1_content_regex = r\"\\*Slide 1: .*?\\n(.*?)\\n\\*Slide 2:\"\n",
        "slide_2_header_regex = r\"\\*Slide 2: (.*?)\\*\"\n",
        "slide_2_content_regex = r\"\\*Slide 2: .*?\\n(.*?)\\n\\*Slide 3:\"\n",
        "slide_3_header_regex = r\"\\*Slide 3: (.*?)\\*\"\n",
        "slide_3_content_regex = r\"\\*Slide 3: .*?\\n(.*?)\\n\\*Slide 4:\"\n",
        "slide_4_header_regex = r\"\\*Slide 4: (.*?)\\*\"\n",
        "slide_4_content_regex = r\"\\*Slide 4: .*?\\n(.*?)\\n\\*Slide 5:\"\n",
        "slide_5_header_regex = r\"\\*Slide 5: (.*?)\\*\"\n",
        "slide_5_content_regex = r\"\\*Slide 5: .*?\\n(.*?)\\nAnalysis:\"\n",
        "analysis_regex = r\"Analysis:\\s*(.*)\"\n",
        "\n",
        "title = re.search(title_regex, content).group(1)\n",
        "title = re.sub(r':', r':\\n', title)\n",
        "matches = re.search(keywords_regex, content, re.DOTALL)\n",
        "keywords = [keyword.strip(\"' \") for keyword in matches.group(1).split(',')] if matches else []\n",
        "keywords = '\\n\\nKeywords: ' + ', '.join(keywords)\n",
        "meaning = re.search(meaning_regex, content).group(1)\n",
        "summary = re.search(summary_regex, content).group(1)\n",
        "table_of_contents = re.findall(table_of_contents_regex, content)\n",
        "table_of_contents = \"\\n\".join(table_of_contents)\n",
        "table_of_contents = re.sub(r'^\\d+\\.\\s*', '', table_of_contents, flags=re.MULTILINE)\n",
        "slide_1_header = re.search(slide_1_header_regex, content).group(1)\n",
        "slide_1_header = slide_1_header.upper()\n",
        "slide_1_content = re.search(slide_1_content_regex, content, re.DOTALL).group(1)\n",
        "slide_1_content = re.sub(r'^\\-\\s*', '', slide_1_content, flags=re.MULTILINE)\n",
        "slide_2_header = re.search(slide_2_header_regex, content).group(1)\n",
        "slide_2_header = slide_2_header.upper()\n",
        "slide_2_content = re.search(slide_2_content_regex, content, re.DOTALL).group(1)\n",
        "slide_2_content = re.sub(r'^\\-\\s*', '', slide_2_content, flags=re.MULTILINE)\n",
        "slide_3_header = re.search(slide_3_header_regex, content).group(1)\n",
        "slide_3_header = slide_3_header.upper()\n",
        "slide_3_content = re.search(slide_3_content_regex, content, re.DOTALL).group(1)\n",
        "slide_3_content = re.sub(r'^\\-\\s*', '', slide_3_content, flags=re.MULTILINE)\n",
        "slide_4_header = re.search(slide_4_header_regex, content).group(1)\n",
        "slide_4_header = slide_4_header.upper()\n",
        "slide_4_content = re.search(slide_4_content_regex, content, re.DOTALL).group(1)\n",
        "slide_4_content = re.sub(r'^\\-\\s*', '', slide_4_content, flags=re.MULTILINE)\n",
        "slide_5_header = re.search(slide_5_header_regex, content).group(1)\n",
        "slide_5_header = slide_5_header.upper()\n",
        "slide_5_content = re.search(slide_5_content_regex, content, re.DOTALL).group(1)\n",
        "slide_5_content = re.sub(r'^\\-\\s*', '', slide_5_content, flags=re.MULTILINE)\n",
        "analysis = re.search(analysis_regex, content).group(1)\n",
        "\n",
        "print(\"Title:\", title)\n",
        "print(\"Meaning:\", meaning)\n",
        "print(\"Summary:\", summary)\n",
        "print(\"Table of Contents:\", table_of_contents)\n",
        "print(\"Slide 1 Header:\", slide_1_header)\n",
        "print(\"Slide 1 Content:\", slide_1_content)\n",
        "print(\"Slide 2 Header:\", slide_2_header)\n",
        "print(\"Slide 2 Content:\", slide_2_content)\n",
        "print(\"Slide 3 Header:\", slide_3_header)\n",
        "print(\"Slide 3 Content:\", slide_3_content)\n",
        "print(\"Slide 4 Header:\", slide_4_header)\n",
        "print(\"Slide 4 Content:\", slide_4_content)\n",
        "print(\"Slide 5 Header:\", slide_5_header)\n",
        "print(\"Slide 5 Content:\", slide_5_content)\n",
        "print(\"Analysis:\", analysis)\n",
        "print(keywords)"
      ]
    },
    {
      "cell_type": "code",
      "source": [
        "!pip install python-pptx"
      ],
      "metadata": {
        "colab": {
          "base_uri": "https://localhost:8080/"
        },
        "id": "CemlvbXEeiuZ",
        "outputId": "e3fc8380-c779-4932-f4ca-26fa7765f5ed"
      },
      "execution_count": null,
      "outputs": [
        {
          "output_type": "stream",
          "name": "stdout",
          "text": [
            "Collecting python-pptx\n",
            "  Downloading python_pptx-0.6.23-py3-none-any.whl (471 kB)\n",
            "\u001b[?25l     \u001b[90m━━━━━━━━━━━━━━━━━━━━━━━━━━━━━━━━━━━━━━━━\u001b[0m \u001b[32m0.0/471.6 kB\u001b[0m \u001b[31m?\u001b[0m eta \u001b[36m-:--:--\u001b[0m\r\u001b[2K     \u001b[91m━━━━━━━━━━━━━━━━━━━\u001b[0m\u001b[90m╺\u001b[0m\u001b[90m━━━━━━━━━━━━━━━━━━━━\u001b[0m \u001b[32m225.3/471.6 kB\u001b[0m \u001b[31m6.5 MB/s\u001b[0m eta \u001b[36m0:00:01\u001b[0m\r\u001b[2K     \u001b[90m━━━━━━━━━━━━━━━━━━━━━━━━━━━━━━━━━━━━━━━━\u001b[0m \u001b[32m471.6/471.6 kB\u001b[0m \u001b[31m8.5 MB/s\u001b[0m eta \u001b[36m0:00:00\u001b[0m\n",
            "\u001b[?25hRequirement already satisfied: lxml>=3.1.0 in /usr/local/lib/python3.10/dist-packages (from python-pptx) (4.9.4)\n",
            "Requirement already satisfied: Pillow>=3.3.2 in /usr/local/lib/python3.10/dist-packages (from python-pptx) (9.4.0)\n",
            "Collecting XlsxWriter>=0.5.7 (from python-pptx)\n",
            "  Downloading XlsxWriter-3.2.0-py3-none-any.whl (159 kB)\n",
            "\u001b[2K     \u001b[90m━━━━━━━━━━━━━━━━━━━━━━━━━━━━━━━━━━━━━━━━\u001b[0m \u001b[32m159.9/159.9 kB\u001b[0m \u001b[31m18.8 MB/s\u001b[0m eta \u001b[36m0:00:00\u001b[0m\n",
            "\u001b[?25hInstalling collected packages: XlsxWriter, python-pptx\n",
            "Successfully installed XlsxWriter-3.2.0 python-pptx-0.6.23\n"
          ]
        }
      ]
    },
    {
      "cell_type": "code",
      "source": [
        "from pptx import Presentation\n",
        "from pptx.util import Inches\n",
        "from pptx.dml.color import RGBColor\n",
        "\n",
        "def fill_ppt_placeholders(presentation_path, placeholders):\n",
        "    prs = Presentation(presentation_path)\n",
        "    current_index = 0\n",
        "    for slide in prs.slides:\n",
        "        for shape in slide.shapes:\n",
        "            if shape.is_placeholder:\n",
        "                placeholder = shape.placeholder_format.idx\n",
        "                if current_index < len(placeholders):\n",
        "                    if isinstance(placeholders[current_index], str):\n",
        "                        if placeholders[current_index].endswith(('.png', '.jpg', '.jpeg', '.gif')):\n",
        "                            if current_index == len(placeholders) - 1:\n",
        "                                left_inch = Inches(1)\n",
        "                                top_inch = Inches(2)\n",
        "                                width_inch = Inches(8)\n",
        "                                height_inch = Inches(8)\n",
        "                                pic = slide.shapes.add_picture(placeholders[current_index], left_inch, top_inch, width_inch, height_inch)\n",
        "                            else:\n",
        "                                shape.text = placeholders[current_index]\n",
        "                        else:\n",
        "                            shape.text = placeholders[current_index]\n",
        "                        if placeholder == 0:\n",
        "                            shape.text_frame.paragraphs[0].font.color.rgb = RGBColor(255, 255, 255)\n",
        "                        elif placeholder > 0:\n",
        "                            shape.text_frame.paragraphs[0].font.color.rgb = RGBColor(0, 0, 0)\n",
        "                    else:\n",
        "                        shape.text = placeholders[current_index]\n",
        "                    if placeholder in [0, 2, 4, 6, 8, 10, 12, 14]:\n",
        "                        shape.text = placeholders[current_index]\n",
        "                    current_index += 1\n",
        "                    if current_index == len(placeholders):\n",
        "                        current_index = 0\n",
        "    prs.save(\"preach_for_the_win.pptx\")\n",
        "    print(\"Presentation placeholders filled and saved.\")\n",
        "arr = [\n",
        "    title,\n",
        "    meaning,\n",
        "    summary + keywords,\n",
        "    table_of_contents,\n",
        "    slide_1_header,\n",
        "    slide_1_content,\n",
        "    slide_2_header,\n",
        "    slide_2_content,\n",
        "    slide_3_header,\n",
        "    slide_3_content,\n",
        "    slide_4_header,\n",
        "    slide_4_content,\n",
        "    slide_5_header,\n",
        "    slide_5_content,\n",
        "    analysis,\n",
        "    '/content/wordcloud.jpg',\n",
        "]\n",
        "val = 'blue'\n",
        "if val == 'red':\n",
        "    template = \"/content/drive/MyDrive/ppt_templates/template_red.pptx\"\n",
        "    fill_ppt_placeholders(template, arr)\n",
        "elif val == 'green':\n",
        "    template = \"/content/drive/MyDrive/ppt_templates/template_green.pptx\"\n",
        "    fill_ppt_placeholders(template, arr)\n",
        "elif val == 'blue':\n",
        "    template = \"/content/drive/MyDrive/ppt_templates/template_green.pptx\"\n",
        "    fill_ppt_placeholders(template, arr)\n",
        "elif val == 'grey':\n",
        "    template = \"/content/drive/MyDrive/ppt_templates/template_grey.pptx\"\n",
        "    fill_ppt_placeholders(template, arr)\n",
        "elif val == 'beige':\n",
        "    template = \"/content/drive/MyDrive/ppt_templates/template_beige.pptx\"\n",
        "    fill_ppt_placeholders(template, arr)\n",
        "else:\n",
        "    print(\"Select a valid template value\")"
      ],
      "metadata": {
        "colab": {
          "base_uri": "https://localhost:8080/"
        },
        "id": "8jK4FLuBSXCs",
        "outputId": "8a16fee0-c9ff-4594-8f06-fb1d54d9e1c1"
      },
      "execution_count": null,
      "outputs": [
        {
          "output_type": "stream",
          "name": "stdout",
          "text": [
            "Presentation placeholders filled and saved.\n"
          ]
        }
      ]
    },
    {
      "cell_type": "code",
      "source": [],
      "metadata": {
        "id": "oKXy7LPjHV5O"
      },
      "execution_count": null,
      "outputs": []
    }
  ]
}