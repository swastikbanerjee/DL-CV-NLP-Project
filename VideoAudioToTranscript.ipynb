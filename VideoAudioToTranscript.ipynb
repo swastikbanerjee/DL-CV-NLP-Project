{
 "cells": [
  {
   "cell_type": "code",
   "execution_count": 1,
   "id": "48d167e4-b9be-46b7-8021-f56eff9a2c3c",
   "metadata": {},
   "outputs": [],
   "source": [
    "import os\n",
    "import moviepy.editor as mp\n",
    "import speech_recognition as sr"
   ]
  },
  {
   "cell_type": "code",
   "execution_count": 2,
   "id": "26779687-e270-48fb-b778-8a3589df538c",
   "metadata": {},
   "outputs": [],
   "source": [
    "# Function to convert audio to transcript using SpeechRecognition\n",
    "def convert_audio_to_transcript(audio_path):\n",
    "    recognizer = sr.Recognizer()\n",
    "    with sr.AudioFile(audio_path) as source:\n",
    "        audio_data = recognizer.record(source)\n",
    "        transcript = recognizer.recognize_google(audio_data)\n",
    "    return transcript"
   ]
  },
  {
   "cell_type": "code",
   "execution_count": 3,
   "id": "9d9bf46d-d0cc-4691-b0da-8adf2f11e59a",
   "metadata": {},
   "outputs": [],
   "source": [
    "# Function to convert video to transcript\n",
    "def convert_video_to_transcript(video_path):\n",
    "    # Convert video to audio\n",
    "    audio_path = 'temp_audio.wav'\n",
    "    video = mp.VideoFileClip(video_path)\n",
    "    audio = video.audio\n",
    "    audio.write_audiofile(audio_path)\n",
    "\n",
    "    # Convert audio to transcript\n",
    "    transcript = convert_audio_to_transcript(audio_path)\n",
    "\n",
    "    # Delete temporary audio file\n",
    "    os.remove(audio_path)\n",
    "\n",
    "    return transcript"
   ]
  },
  {
   "cell_type": "code",
   "execution_count": 4,
   "id": "0f5a0be6-aad3-4d13-a7f3-7313ceb63e09",
   "metadata": {},
   "outputs": [],
   "source": [
    "# Main function to handle different types of input\n",
    "def handle_input(input_data):\n",
    "    # Detect input type\n",
    "    if input_data.endswith('.mp4') or input_data.endswith('.avi'):\n",
    "        # Input is a video file\n",
    "        transcript = convert_video_to_transcript(input_data)\n",
    "    elif input_data.endswith('.wav') or input_data.endswith('.mp3'):\n",
    "        # Input is an audio file\n",
    "        transcript = convert_audio_to_transcript(input_data)\n",
    "    elif input_data.endswith('.txt'):\n",
    "        # Input is a text file\n",
    "        with open(input_data, 'r') as file:\n",
    "            transcript = file.read()\n",
    "    else:\n",
    "        # Input is text\n",
    "        transcript = input_data\n",
    "    \n",
    "    return transcript"
   ]
  },
  {
   "cell_type": "code",
   "execution_count": 5,
   "id": "c64553da-0473-4cc8-94a3-6c4cea86bed9",
   "metadata": {},
   "outputs": [
    {
     "name": "stdin",
     "output_type": "stream",
     "text": [
      "Enter the path to the file or input text:  demoaudio.wav\n"
     ]
    },
    {
     "name": "stdout",
     "output_type": "stream",
     "text": [
      "am I boring you your life you're sleepy 102 year old Charlotte England has an audience of robots keeping her company social robots in fact meet kiwi and mango they're at the center of a study examining whether artificial intelligence can be used to help care for older people they're a big hit with residents here they say the pandemic left many seniors feeling isolated I think one of these things to help the loneliness would be great I don't see my children that often but I mean I could play with him all morning it's fun company the AI companions are the signs of a small pets emotional robotic software that learns and mimics human emotions with a 360° camera on top these two can recognize faces and voices even reach up for a Hugo the two have been trained to take after their lead companion to different personalities and even moments of jealousy UBC researchers work with the Japanese manufacturer to bring kiwi and mango Here and Now Canada's part of an ongoing international study that also includes Hong Kong and Singapore to study human robot interactions am I right researchers say they'll gather and analyze the results from around the globe so we want to come back here in Canada and like this they'll spend the next few months recording interactions between the residents and robots then published those findings to help shape the future of seniors care Daniel Fletcher CDC news West Vancouver\n"
     ]
    }
   ],
   "source": [
    "def main():\n",
    "    # Get input from the user\n",
    "    input_data = input(\"Enter the path to the file or input text: \")\n",
    "    \n",
    "    # Handle input and convert to transcript\n",
    "    transcript = handle_input(input_data)\n",
    "    print(transcript)\n",
    "\n",
    "if __name__ == \"__main__\":\n",
    "    main()"
   ]
  }
 ],
 "metadata": {
  "kernelspec": {
   "display_name": "Python 3 (Intel® oneAPI 2023.2)",
   "language": "python",
   "name": "c009-intel_distribution_of_python_3_oneapi-beta05-python"
  },
  "language_info": {
   "codemirror_mode": {
    "name": "ipython",
    "version": 3
   },
   "file_extension": ".py",
   "mimetype": "text/x-python",
   "name": "python",
   "nbconvert_exporter": "python",
   "pygments_lexer": "ipython3",
   "version": "3.9.16"
  }
 },
 "nbformat": 4,
 "nbformat_minor": 5
}
